{
 "cells": [
  {
   "cell_type": "code",
   "execution_count": 2,
   "id": "a9669033-47f3-43d0-bfa3-59b96936a5fc",
   "metadata": {},
   "outputs": [
    {
     "name": "stdout",
     "output_type": "stream",
     "text": [
      "Summary of transaction dataset:\n",
      "<class 'pandas.core.frame.DataFrame'>\n",
      "RangeIndex: 10 entries, 0 to 9\n",
      "Data columns (total 5 columns):\n",
      " #   Column           Non-Null Count  Dtype  \n",
      "---  ------           --------------  -----  \n",
      " 0   TransactionID    10 non-null     int64  \n",
      " 1   TransactionDate  10 non-null     object \n",
      " 2   UserID           9 non-null      float64\n",
      " 3   ProductID        10 non-null     int64  \n",
      " 4   Quantity         10 non-null     int64  \n",
      "dtypes: float64(1), int64(3), object(1)\n",
      "memory usage: 532.0+ bytes\n",
      "None\n",
      "\n",
      "Statistical summary:\n",
      "         TransactionID TransactionDate    UserID  ProductID   Quantity\n",
      "count        10.00000              10  9.000000  10.000000  10.000000\n",
      "unique            NaN              10       NaN        NaN        NaN\n",
      "top               NaN      2010-08-21       NaN        NaN        NaN\n",
      "freq              NaN               1       NaN        NaN        NaN\n",
      "mean          5.50000             NaN  3.444444   3.400000   2.400000\n",
      "std           3.02765             NaN  2.127858   1.074968   1.712698\n",
      "min           1.00000             NaN  1.000000   2.000000   1.000000\n",
      "25%           3.25000             NaN  2.000000   2.250000   1.000000\n",
      "50%           5.50000             NaN  3.000000   4.000000   2.000000\n",
      "75%           7.75000             NaN  3.000000   4.000000   3.000000\n",
      "max          10.00000             NaN  7.000000   5.000000   6.000000\n"
     ]
    }
   ],
   "source": [
    "import pandas as pd\n",
    "\n",
    "# Load dataset\n",
    "df = pd.read_csv(\"transactions.csv\")\n",
    "\n",
    "# 1. Print summary of transaction dataset\n",
    "print(\"Summary of transaction dataset:\")\n",
    "print(df.info())\n",
    "print(\"\\nStatistical summary:\\n\", df.describe(include='all'))\n"
   ]
  },
  {
   "cell_type": "code",
   "execution_count": 2,
   "id": "d7d1fe37-a3e7-432a-89f9-191d39e8f67b",
   "metadata": {},
   "outputs": [
    {
     "name": "stdout",
     "output_type": "stream",
     "text": [
      "\n",
      "Number of attributes: 5\n"
     ]
    }
   ],
   "source": [
    "# 2. Print number of attributes\n",
    "print(\"\\nNumber of attributes:\", df.shape[1])"
   ]
  },
  {
   "cell_type": "code",
   "execution_count": 3,
   "id": "26427ec5-0dbf-47e1-9fec-c6b802dd8a44",
   "metadata": {},
   "outputs": [
    {
     "name": "stdout",
     "output_type": "stream",
     "text": [
      "Number of records: 10\n"
     ]
    }
   ],
   "source": [
    "# 3. Print number of records\n",
    "print(\"Number of records:\", df.shape[0])"
   ]
  },
  {
   "cell_type": "code",
   "execution_count": 4,
   "id": "99e10159-6981-4eeb-8d32-78cac51c128c",
   "metadata": {},
   "outputs": [
    {
     "name": "stdout",
     "output_type": "stream",
     "text": [
      "Row names: [0, 1, 2, 3, 4, 5, 6, 7, 8, 9]\n"
     ]
    }
   ],
   "source": [
    "# 4. Get row names (index values)\n",
    "print(\"Row names:\", df.index.tolist())\n"
   ]
  },
  {
   "cell_type": "code",
   "execution_count": 5,
   "id": "c6068ddd-0ca4-4203-a0e5-5c5a54a8a0ee",
   "metadata": {},
   "outputs": [
    {
     "name": "stdout",
     "output_type": "stream",
     "text": [
      "Column names: ['TransactionID', 'TransactionDate', 'UserID', 'ProductID', 'Quantity']\n"
     ]
    }
   ],
   "source": [
    "# 5. Get column names\n",
    "print(\"Column names:\", df.columns.tolist())"
   ]
  },
  {
   "cell_type": "code",
   "execution_count": 6,
   "id": "ca299482-0b26-4ef7-a90d-caed8854a149",
   "metadata": {},
   "outputs": [
    {
     "name": "stdout",
     "output_type": "stream",
     "text": [
      "Top 10 records:\n",
      "    TransactionID TransactionDate  UserID  ProductID  Quantity\n",
      "0              1      2010-08-21     7.0          2         1\n",
      "1              2      2011-05-26     3.0          4         1\n",
      "2              3      2011-06-16     3.0          3         1\n",
      "3              4      2012-08-26     1.0          2         3\n",
      "4              5      2013-06-06     2.0          4         1\n",
      "5              6      2013-12-23     2.0          5         6\n",
      "6              7      2013-12-30     3.0          4         1\n",
      "7              8      2014-04-24     NaN          2         3\n",
      "8              9      2015-04-24     7.0          4         3\n",
      "9             10      2016-05-08     3.0          4         4\n"
     ]
    }
   ],
   "source": [
    "# 6. View top 10 records\n",
    "print(\"Top 10 records:\\n\", df.head(10))"
   ]
  },
  {
   "cell_type": "code",
   "execution_count": 7,
   "id": "cf1f9794-d988-43b6-a174-911eb9287ecd",
   "metadata": {},
   "outputs": [
    {
     "name": "stdout",
     "output_type": "stream",
     "text": [
      "\n",
      "Column renamed from 'Quantity' to 'Quant':\n",
      "    TransactionID TransactionDate  UserID  ProductID  Quant\n",
      "0              1      2010-08-21     7.0          2      1\n",
      "1              2      2011-05-26     3.0          4      1\n",
      "2              3      2011-06-16     3.0          3      1\n",
      "3              4      2012-08-26     1.0          2      3\n",
      "4              5      2013-06-06     2.0          4      1\n"
     ]
    }
   ],
   "source": [
    "# 7. Change the name of column 'Quantity' to 'Quant'\n",
    "df.rename(columns={'Quantity': 'Quant'}, inplace=True)\n",
    "print(\"\\nColumn renamed from 'Quantity' to 'Quant':\\n\", df.head())"
   ]
  },
  {
   "cell_type": "code",
   "execution_count": 8,
   "id": "89a02142-1b97-4f1f-992b-0e2b8782f763",
   "metadata": {},
   "outputs": [
    {
     "name": "stdout",
     "output_type": "stream",
     "text": [
      "\n",
      "Columns renamed (ProductID -> PID, UserID -> UID):\n",
      "    TransactionID TransactionDate  UID  PID  Quant\n",
      "0              1      2010-08-21  7.0    2      1\n",
      "1              2      2011-05-26  3.0    4      1\n",
      "2              3      2011-06-16  3.0    3      1\n",
      "3              4      2012-08-26  1.0    2      3\n",
      "4              5      2013-06-06  2.0    4      1\n"
     ]
    }
   ],
   "source": [
    "# 8. Change the name of columns 'ProductID' and 'UserID'\n",
    "df.rename(columns={'ProductID': 'PID', 'UserID': 'UID'}, inplace=True)\n",
    "print(\"\\nColumns renamed (ProductID -> PID, UserID -> UID):\\n\", df.head())"
   ]
  },
  {
   "cell_type": "code",
   "execution_count": 9,
   "id": "0bd48eed-e645-42af-b3e5-515aca8efd42",
   "metadata": {},
   "outputs": [
    {
     "name": "stdout",
     "output_type": "stream",
     "text": [
      "\n",
      "Rows ordered by TransactionID descending:\n",
      "    TransactionID TransactionDate  UID  PID  Quant\n",
      "9             10      2016-05-08  3.0    4      4\n",
      "8              9      2015-04-24  7.0    4      3\n",
      "7              8      2014-04-24  NaN    2      3\n",
      "6              7      2013-12-30  3.0    4      1\n",
      "5              6      2013-12-23  2.0    5      6\n",
      "4              5      2013-06-06  2.0    4      1\n",
      "3              4      2012-08-26  1.0    2      3\n",
      "2              3      2011-06-16  3.0    3      1\n",
      "1              2      2011-05-26  3.0    4      1\n",
      "0              1      2010-08-21  7.0    2      1\n"
     ]
    }
   ],
   "source": [
    "# 9. Order rows by TransactionID descending\n",
    "df_sorted_tid = df.sort_values(by='TransactionID', ascending=False)\n",
    "print(\"\\nRows ordered by TransactionID descending:\\n\", df_sorted_tid)"
   ]
  },
  {
   "cell_type": "code",
   "execution_count": 10,
   "id": "a475875a-411f-4410-bb79-05f4a704eb0b",
   "metadata": {},
   "outputs": [
    {
     "name": "stdout",
     "output_type": "stream",
     "text": [
      "\n",
      "Rows ordered by Quant ascending and TransactionDate descending:\n",
      "    TransactionID TransactionDate  UID  PID  Quant\n",
      "6              7      2013-12-30  3.0    4      1\n",
      "4              5      2013-06-06  2.0    4      1\n",
      "2              3      2011-06-16  3.0    3      1\n",
      "1              2      2011-05-26  3.0    4      1\n",
      "0              1      2010-08-21  7.0    2      1\n",
      "8              9      2015-04-24  7.0    4      3\n",
      "7              8      2014-04-24  NaN    2      3\n",
      "3              4      2012-08-26  1.0    2      3\n",
      "9             10      2016-05-08  3.0    4      4\n",
      "5              6      2013-12-23  2.0    5      6\n"
     ]
    }
   ],
   "source": [
    "# 10. Order rows by Quant ascending, TransactionDate descending\n",
    "df_sorted_quant_date = df.sort_values(by=['Quant', 'TransactionDate'], ascending=[True, False])\n",
    "print(\"\\nRows ordered by Quant ascending and TransactionDate descending:\\n\", df_sorted_quant_date)\n"
   ]
  },
  {
   "cell_type": "code",
   "execution_count": 11,
   "id": "323972b6-c8c2-45f8-9144-c6a4b6495b53",
   "metadata": {},
   "outputs": [
    {
     "name": "stdout",
     "output_type": "stream",
     "text": [
      "\n",
      "Columns reordered:\n",
      "    PID  Quant TransactionDate  TransactionID  UID\n",
      "0    2      1      2010-08-21              1  7.0\n",
      "1    4      1      2011-05-26              2  3.0\n",
      "2    3      1      2011-06-16              3  3.0\n",
      "3    2      3      2012-08-26              4  1.0\n",
      "4    4      1      2013-06-06              5  2.0\n"
     ]
    }
   ],
   "source": [
    "# 11. Set column order to PID, Quant, TransactionDate, TransactionID, UID\n",
    "df = df[['PID', 'Quant', 'TransactionDate', 'TransactionID', 'UID']]\n",
    "print(\"\\nColumns reordered:\\n\", df.head())"
   ]
  },
  {
   "cell_type": "code",
   "execution_count": 12,
   "id": "1c47912a-8f73-4422-a3d1-1b2453535f88",
   "metadata": {},
   "outputs": [
    {
     "name": "stdout",
     "output_type": "stream",
     "text": [
      "\n",
      "UID set as the first column:\n",
      "    UID  PID  Quant TransactionDate  TransactionID\n",
      "0  7.0    2      1      2010-08-21              1\n",
      "1  3.0    4      1      2011-05-26              2\n",
      "2  3.0    3      1      2011-06-16              3\n",
      "3  1.0    2      3      2012-08-26              4\n",
      "4  2.0    4      1      2013-06-06              5\n"
     ]
    }
   ],
   "source": [
    "# 12. Make UID the first column\n",
    "df = df[['UID', 'PID', 'Quant', 'TransactionDate', 'TransactionID']]\n",
    "print(\"\\nUID set as the first column:\\n\", df.head())\n"
   ]
  },
  {
   "cell_type": "code",
   "execution_count": 13,
   "id": "4015ff12-fd89-43c7-a826-2d75515eba71",
   "metadata": {},
   "outputs": [
    {
     "name": "stdout",
     "output_type": "stream",
     "text": [
      "\n",
      "Second column (PID):\n",
      " [2 4 3 2 4 5 4 2 4 4]\n"
     ]
    }
   ],
   "source": [
    "# 13. Extracting arrays: Get the 2nd column (PID)\n",
    "print(\"\\nSecond column (PID):\\n\", df.iloc[:, 1].values)\n"
   ]
  },
  {
   "cell_type": "code",
   "execution_count": 14,
   "id": "8fd208d3-ad03-48f7-b8c5-c723ea629089",
   "metadata": {},
   "outputs": [
    {
     "name": "stdout",
     "output_type": "stream",
     "text": [
      "\n",
      "PID array:\n",
      " [2 4 3 2 4 5 4 2 4 4]\n"
     ]
    }
   ],
   "source": [
    "# 14. Get the PID array\n",
    "print(\"\\nPID array:\\n\", df['PID'].values)\n"
   ]
  },
  {
   "cell_type": "code",
   "execution_count": 15,
   "id": "8687a164-d61b-4873-acf2-282905574388",
   "metadata": {},
   "outputs": [
    {
     "name": "stdout",
     "output_type": "stream",
     "text": [
      "\n",
      "PID array using loc:\n",
      " [2 4 3 2 4 5 4 2 4 4]\n"
     ]
    }
   ],
   "source": [
    "# 15. Get the PID array (alternative method)\n",
    "pid_array = df.loc[:, 'PID'].values\n",
    "print(\"\\nPID array using loc:\\n\", pid_array)"
   ]
  },
  {
   "cell_type": "code",
   "execution_count": 16,
   "id": "383fc367-8c27-442f-bf48-d246dd77eda7",
   "metadata": {},
   "outputs": [
    {
     "name": "stdout",
     "output_type": "stream",
     "text": [
      "\n",
      "Subset rows 1, 3, and 6:\n",
      "    UID  PID  Quant TransactionDate  TransactionID\n",
      "1  3.0    4      1      2011-05-26              2\n",
      "3  1.0    2      3      2012-08-26              4\n",
      "6  3.0    4      1      2013-12-30              7\n"
     ]
    }
   ],
   "source": [
    "# 16. Subset rows 1, 3, and 6\n",
    "subset_rows_1_3_6 = df.iloc[[1, 3, 6]]\n",
    "print(\"\\nSubset rows 1, 3, and 6:\\n\", subset_rows_1_3_6)\n"
   ]
  },
  {
   "cell_type": "code",
   "execution_count": 17,
   "id": "76e4f168-c861-4321-9cd6-52421f54c415",
   "metadata": {},
   "outputs": [
    {
     "name": "stdout",
     "output_type": "stream",
     "text": [
      "\n",
      "Subset excluding rows 1, 3, and 6:\n",
      "    UID  PID  Quant TransactionDate  TransactionID\n",
      "0  7.0    2      1      2010-08-21              1\n",
      "2  3.0    3      1      2011-06-16              3\n",
      "4  2.0    4      1      2013-06-06              5\n",
      "5  2.0    5      6      2013-12-23              6\n",
      "7  NaN    2      3      2014-04-24              8\n",
      "8  7.0    4      3      2015-04-24              9\n",
      "9  3.0    4      4      2016-05-08             10\n"
     ]
    }
   ],
   "source": [
    "# 17. Subset rows excluding 1, 3, and 6\n",
    "subset_excluding_rows_1_3_6 = df.drop(index=[1, 3, 6])\n",
    "print(\"\\nSubset excluding rows 1, 3, and 6:\\n\", subset_excluding_rows_1_3_6)"
   ]
  },
  {
   "cell_type": "code",
   "execution_count": 18,
   "id": "4f1dc086-527b-4c9d-983c-3d0e4f0b789c",
   "metadata": {},
   "outputs": [
    {
     "name": "stdout",
     "output_type": "stream",
     "text": [
      "\n",
      "First three rows:\n",
      "    UID  PID  Quant TransactionDate  TransactionID\n",
      "0  7.0    2      1      2010-08-21              1\n",
      "1  3.0    4      1      2011-05-26              2\n",
      "2  3.0    3      1      2011-06-16              3\n"
     ]
    }
   ],
   "source": [
    "# 18. Subset the first three rows\n",
    "print(\"\\nFirst three rows:\\n\", df.head(3))"
   ]
  },
  {
   "cell_type": "code",
   "execution_count": 19,
   "id": "57b1761c-7671-4155-88c5-117f9a91cc31",
   "metadata": {},
   "outputs": [
    {
     "name": "stdout",
     "output_type": "stream",
     "text": [
      "\n",
      "Last two rows:\n",
      "    UID  PID  Quant TransactionDate  TransactionID\n",
      "8  7.0    4      3      2015-04-24              9\n",
      "9  3.0    4      4      2016-05-08             10\n"
     ]
    }
   ],
   "source": [
    "# 19. Subset the last two rows\n",
    "print(\"\\nLast two rows:\\n\", df.tail(2))\n"
   ]
  },
  {
   "cell_type": "code",
   "execution_count": 20,
   "id": "0a34e795-28ed-4700-b1e0-00a43877bad0",
   "metadata": {},
   "outputs": [
    {
     "name": "stdout",
     "output_type": "stream",
     "text": [
      "\n",
      "Excluding the last two rows:\n",
      "    UID  PID  Quant TransactionDate  TransactionID\n",
      "0  7.0    2      1      2010-08-21              1\n",
      "1  3.0    4      1      2011-05-26              2\n",
      "2  3.0    3      1      2011-06-16              3\n",
      "3  1.0    2      3      2012-08-26              4\n",
      "4  2.0    4      1      2013-06-06              5\n",
      "5  2.0    5      6      2013-12-23              6\n",
      "6  3.0    4      1      2013-12-30              7\n",
      "7  NaN    2      3      2014-04-24              8\n"
     ]
    }
   ],
   "source": [
    "# 20. Subset rows excluding the last two\n",
    "print(\"\\nExcluding the last two rows:\\n\", df.iloc[:-2])\n"
   ]
  },
  {
   "cell_type": "code",
   "execution_count": 21,
   "id": "0a799b1e-1230-43c7-9ccc-edddf7454efc",
   "metadata": {},
   "outputs": [
    {
     "name": "stdout",
     "output_type": "stream",
     "text": [
      "\n",
      "Excluding the first three rows:\n",
      "    UID  PID  Quant TransactionDate  TransactionID\n",
      "3  1.0    2      3      2012-08-26              4\n",
      "4  2.0    4      1      2013-06-06              5\n",
      "5  2.0    5      6      2013-12-23              6\n",
      "6  3.0    4      1      2013-12-30              7\n",
      "7  NaN    2      3      2014-04-24              8\n",
      "8  7.0    4      3      2015-04-24              9\n",
      "9  3.0    4      4      2016-05-08             10\n"
     ]
    }
   ],
   "source": [
    "# 21. Subset rows excluding the first three\n",
    "print(\"\\nExcluding the first three rows:\\n\", df.iloc[3:])"
   ]
  },
  {
   "cell_type": "code",
   "execution_count": 22,
   "id": "3f5893f8-bf2d-4bd1-b923-ac549b308d2a",
   "metadata": {},
   "outputs": [
    {
     "name": "stdout",
     "output_type": "stream",
     "text": [
      "\n",
      "Rows where Quant > 1:\n",
      "    UID  PID  Quant TransactionDate  TransactionID\n",
      "3  1.0    2      3      2012-08-26              4\n",
      "5  2.0    5      6      2013-12-23              6\n",
      "7  NaN    2      3      2014-04-24              8\n",
      "8  7.0    4      3      2015-04-24              9\n",
      "9  3.0    4      4      2016-05-08             10\n"
     ]
    }
   ],
   "source": [
    "# 22. Subset rows where Quant > 1\n",
    "subset_quant_gt_1 = df[df['Quant'] > 1]\n",
    "print(\"\\nRows where Quant > 1:\\n\", subset_quant_gt_1)"
   ]
  },
  {
   "cell_type": "code",
   "execution_count": 23,
   "id": "9ed27c6e-e692-414e-8a25-2127a218221b",
   "metadata": {},
   "outputs": [
    {
     "name": "stdout",
     "output_type": "stream",
     "text": [
      "\n",
      "Rows where UID = 2:\n",
      "    UID  PID  Quant TransactionDate  TransactionID\n",
      "4  2.0    4      1      2013-06-06              5\n",
      "5  2.0    5      6      2013-12-23              6\n"
     ]
    }
   ],
   "source": [
    "\n",
    "# 23. Subset rows where UID = 2\n",
    "subset_uid_eq_2 = df[df['UID'] == 2]\n",
    "print(\"\\nRows where UID = 2:\\n\", subset_uid_eq_2)\n"
   ]
  },
  {
   "cell_type": "code",
   "execution_count": 24,
   "id": "768e343e-16e9-4b43-b2d3-eb59f8100369",
   "metadata": {},
   "outputs": [
    {
     "name": "stdout",
     "output_type": "stream",
     "text": [
      "\n",
      "Rows where Quant > 1 and UID = 2:\n",
      "    UID  PID  Quant TransactionDate  TransactionID\n",
      "5  2.0    5      6      2013-12-23              6\n"
     ]
    }
   ],
   "source": [
    "# 24. Subset rows where Quant > 1 and UID = 2\n",
    "subset_quant_gt_1_uid_eq_2 = df[(df['Quant'] > 1) & (df['UID'] == 2)]\n",
    "print(\"\\nRows where Quant > 1 and UID = 2:\\n\", subset_quant_gt_1_uid_eq_2)"
   ]
  },
  {
   "cell_type": "code",
   "execution_count": 25,
   "id": "3499254f-2382-4626-850d-76b593eb5402",
   "metadata": {},
   "outputs": [
    {
     "name": "stdout",
     "output_type": "stream",
     "text": [
      "\n",
      "Rows where Quant + UID > 3:\n",
      "    UID  PID  Quant TransactionDate  TransactionID\n",
      "0  7.0    2      1      2010-08-21              1\n",
      "1  3.0    4      1      2011-05-26              2\n",
      "2  3.0    3      1      2011-06-16              3\n",
      "3  1.0    2      3      2012-08-26              4\n",
      "5  2.0    5      6      2013-12-23              6\n",
      "6  3.0    4      1      2013-12-30              7\n",
      "8  7.0    4      3      2015-04-24              9\n",
      "9  3.0    4      4      2016-05-08             10\n"
     ]
    }
   ],
   "source": [
    "# 25. Subset rows where Quant + UID > 3\n",
    "subset_quant_uid_sum_gt_3 = df[df['Quant'] + df['UID'] > 3]\n",
    "print(\"\\nRows where Quant + UID > 3:\\n\", subset_quant_uid_sum_gt_3)\n"
   ]
  },
  {
   "cell_type": "code",
   "execution_count": 26,
   "id": "8adb1327-c2f3-4629-95b2-4a61cf40466a",
   "metadata": {},
   "outputs": [
    {
     "name": "stdout",
     "output_type": "stream",
     "text": [
      "\n",
      "Rows where foo is True:\n",
      "    UID  PID  Quant TransactionDate  TransactionID\n",
      "0  7.0    2      1      2010-08-21              1\n",
      "2  3.0    3      1      2011-06-16              3\n",
      "4  2.0    4      1      2013-06-06              5\n",
      "6  3.0    4      1      2013-12-30              7\n",
      "8  7.0    4      3      2015-04-24              9\n",
      "9  3.0    4      4      2016-05-08             10\n"
     ]
    }
   ],
   "source": [
    "# 26. Subset rows where an external array foo is True\n",
    "foo = [True, False, True, False, True, False, True, False, True, True]\n",
    "subset_foo_true = df[foo]\n",
    "print(\"\\nRows where foo is True:\\n\", subset_foo_true)"
   ]
  },
  {
   "cell_type": "code",
   "execution_count": 27,
   "id": "39791a3a-c01d-46dc-8f14-30b978816b86",
   "metadata": {},
   "outputs": [
    {
     "name": "stdout",
     "output_type": "stream",
     "text": [
      "\n",
      "Rows where bar is positive:\n",
      "    UID  PID  Quant TransactionDate  TransactionID\n",
      "0  7.0    2      1      2010-08-21              1\n",
      "2  3.0    3      1      2011-06-16              3\n",
      "4  2.0    4      1      2013-06-06              5\n",
      "6  3.0    4      1      2013-12-30              7\n",
      "8  7.0    4      3      2015-04-24              9\n",
      "9  3.0    4      4      2016-05-08             10\n"
     ]
    }
   ],
   "source": [
    "# 27. Subset rows where external array bar is positive\n",
    "bar = [1, -1, 3, 0, 2, -3, 4, -2, 5, 1]\n",
    "subset_bar_positive = df[[x > 0 for x in bar]]\n",
    "print(\"\\nRows where bar is positive:\\n\", subset_bar_positive)\n"
   ]
  },
  {
   "cell_type": "code",
   "execution_count": 28,
   "id": "e6b7c8d9-5357-4223-84d4-9d130b780a3d",
   "metadata": {},
   "outputs": [
    {
     "name": "stdout",
     "output_type": "stream",
     "text": [
      "\n",
      "Rows where foo is True or bar is negative:\n",
      "    UID  PID  Quant TransactionDate  TransactionID\n",
      "0  7.0    2      1      2010-08-21              1\n",
      "1  3.0    4      1      2011-05-26              2\n",
      "2  3.0    3      1      2011-06-16              3\n",
      "4  2.0    4      1      2013-06-06              5\n",
      "5  2.0    5      6      2013-12-23              6\n",
      "6  3.0    4      1      2013-12-30              7\n",
      "7  NaN    2      3      2014-04-24              8\n",
      "8  7.0    4      3      2015-04-24              9\n",
      "9  3.0    4      4      2016-05-08             10\n"
     ]
    }
   ],
   "source": [
    "# 28. Subset rows where foo is True or bar is negative\n",
    "subset_foo_true_or_bar_negative = df[[f or b < 0 for f, b in zip(foo, bar)]]\n",
    "print(\"\\nRows where foo is True or bar is negative:\\n\", subset_foo_true_or_bar_negative)\n"
   ]
  },
  {
   "cell_type": "code",
   "execution_count": 29,
   "id": "ef2099d0-ca6c-44d6-8fce-3b670395fd01",
   "metadata": {},
   "outputs": [
    {
     "name": "stdout",
     "output_type": "stream",
     "text": [
      "\n",
      "Rows where foo is not True and bar is not negative:\n",
      "    UID  PID  Quant TransactionDate  TransactionID\n",
      "3  1.0    2      3      2012-08-26              4\n"
     ]
    }
   ],
   "source": [
    "# 29. Subset rows where foo is not True and bar is not negative\n",
    "subset_not_foo_not_negative = df[[not f and b >= 0 for f, b in zip(foo, bar)]]\n",
    "print(\"\\nRows where foo is not True and bar is not negative:\\n\", subset_not_foo_not_negative)"
   ]
  },
  {
   "cell_type": "code",
   "execution_count": 30,
   "id": "46783259-e25b-4ddc-9f61-4a3bfda59f9d",
   "metadata": {},
   "outputs": [
    {
     "name": "stdout",
     "output_type": "stream",
     "text": [
      "\n",
      "Subset by columns 1 and 3:\n",
      "    UID  Quant\n",
      "0  7.0      1\n",
      "1  3.0      1\n",
      "2  3.0      1\n",
      "3  1.0      3\n",
      "4  2.0      1\n",
      "5  2.0      6\n",
      "6  3.0      1\n",
      "7  NaN      3\n",
      "8  7.0      3\n",
      "9  3.0      4\n"
     ]
    }
   ],
   "source": [
    "# 30. Subset by columns 1 and 3\n",
    "subset_columns_1_3 = df.iloc[:, [0, 2]]\n",
    "print(\"\\nSubset by columns 1 and 3:\\n\", subset_columns_1_3)"
   ]
  },
  {
   "cell_type": "code",
   "execution_count": 31,
   "id": "1ae7970c-b121-4a1c-b615-a27df1f76322",
   "metadata": {},
   "outputs": [
    {
     "name": "stdout",
     "output_type": "stream",
     "text": [
      "\n",
      "Subset by TransactionID and TransactionDate:\n",
      "    TransactionID TransactionDate\n",
      "0              1      2010-08-21\n",
      "1              2      2011-05-26\n",
      "2              3      2011-06-16\n",
      "3              4      2012-08-26\n",
      "4              5      2013-06-06\n",
      "5              6      2013-12-23\n",
      "6              7      2013-12-30\n",
      "7              8      2014-04-24\n",
      "8              9      2015-04-24\n",
      "9             10      2016-05-08\n"
     ]
    }
   ],
   "source": [
    "# 31. Subset by columns TransactionID and TransactionDate\n",
    "subset_transaction_cols = df[['TransactionID', 'TransactionDate']]\n",
    "print(\"\\nSubset by TransactionID and TransactionDate:\\n\", subset_transaction_cols)"
   ]
  },
  {
   "cell_type": "code",
   "execution_count": 32,
   "id": "69988c59-bf88-4035-b6c7-8cb514cf2f5a",
   "metadata": {},
   "outputs": [
    {
     "name": "stdout",
     "output_type": "stream",
     "text": [
      "\n",
      "Subset by TransactionID and TransactionDate using loc:\n",
      "    TransactionID TransactionDate\n",
      "0              1      2010-08-21\n",
      "1              2      2011-05-26\n",
      "2              3      2011-06-16\n",
      "3              4      2012-08-26\n",
      "4              5      2013-06-06\n",
      "5              6      2013-12-23\n",
      "6              7      2013-12-30\n",
      "7              8      2014-04-24\n",
      "8              9      2015-04-24\n",
      "9             10      2016-05-08\n"
     ]
    }
   ],
   "source": [
    "# 32. Subset by TransactionID and TransactionDate with logical operator\n",
    "subset_transaction_logic = df.loc[:, ['TransactionID', 'TransactionDate']]\n",
    "print(\"\\nSubset by TransactionID and TransactionDate using loc:\\n\", subset_transaction_logic)"
   ]
  },
  {
   "cell_type": "code",
   "execution_count": 33,
   "id": "7093273e-b648-4a02-b3c8-1d2dd571d0a2",
   "metadata": {},
   "outputs": [
    {
     "name": "stdout",
     "output_type": "stream",
     "text": [
      "\n",
      "Subset by variable list of columns:\n",
      "    UID  Quant\n",
      "0  7.0      1\n",
      "1  3.0      1\n",
      "2  3.0      1\n",
      "3  1.0      3\n",
      "4  2.0      1\n",
      "5  2.0      6\n",
      "6  3.0      1\n",
      "7  NaN      3\n",
      "8  7.0      3\n",
      "9  3.0      4\n"
     ]
    }
   ],
   "source": [
    "# 33. Subset columns by a variable list of column names\n",
    "var_cols = ['UID', 'Quant']\n",
    "subset_var_cols = df[var_cols]\n",
    "print(\"\\nSubset by variable list of columns:\\n\", subset_var_cols)"
   ]
  },
  {
   "cell_type": "code",
   "execution_count": 34,
   "id": "64ffb9a3-3530-43be-b3be-f649f0565915",
   "metadata": {},
   "outputs": [
    {
     "name": "stdout",
     "output_type": "stream",
     "text": [
      "\n",
      "Subset excluding variable list of columns:\n",
      "    PID TransactionDate  TransactionID\n",
      "0    2      2010-08-21              1\n",
      "1    4      2011-05-26              2\n",
      "2    3      2011-06-16              3\n",
      "3    2      2012-08-26              4\n",
      "4    4      2013-06-06              5\n",
      "5    5      2013-12-23              6\n",
      "6    4      2013-12-30              7\n",
      "7    2      2014-04-24              8\n",
      "8    4      2015-04-24              9\n",
      "9    4      2016-05-08             10\n"
     ]
    }
   ],
   "source": [
    "# 34. Subset columns excluding a variable list of column names\n",
    "subset_excluding_cols = df.drop(columns=var_cols)\n",
    "print(\"\\nSubset excluding variable list of columns:\\n\", subset_excluding_cols)\n"
   ]
  },
  {
   "cell_type": "code",
   "execution_count": 35,
   "id": "9ae045b3-1e15-46c8-a7b5-6c48564f755f",
   "metadata": {},
   "outputs": [
    {
     "name": "stdout",
     "output_type": "stream",
     "text": [
      "\n",
      "Updated first row Quant value to 10:\n",
      "    UID  PID  Quant TransactionDate  TransactionID\n",
      "0  7.0    2     10      2010-08-21              1\n",
      "1  3.0    4      1      2011-05-26              2\n",
      "2  3.0    3      1      2011-06-16              3\n",
      "3  1.0    2      3      2012-08-26              4\n",
      "4  2.0    4      1      2013-06-06              5\n"
     ]
    }
   ],
   "source": [
    "# 35. Inserting and updating values\n",
    "# Example: Set Quant of first row to 10\n",
    "df.at[0, 'Quant'] = 10\n",
    "print(\"\\nUpdated first row Quant value to 10:\\n\", df.head())\n"
   ]
  },
  {
   "cell_type": "code",
   "execution_count": 36,
   "id": "37b56f5d-2a78-4ae2-9646-b4cf62fa5a5d",
   "metadata": {},
   "outputs": [
    {
     "name": "stdout",
     "output_type": "stream",
     "text": [
      "\n",
      "Converted TransactionDate to datetime:\n",
      "    UID  PID  Quant TransactionDate  TransactionID\n",
      "0  7.0    2     10      2010-08-21              1\n",
      "1  3.0    4      1      2011-05-26              2\n",
      "2  3.0    3      1      2011-06-16              3\n",
      "3  1.0    2      3      2012-08-26              4\n",
      "4  2.0    4      1      2013-06-06              5\n"
     ]
    }
   ],
   "source": [
    "# 36. Convert TransactionDate to type Date\n",
    "df['TransactionDate'] = pd.to_datetime(df['TransactionDate'])\n",
    "print(\"\\nConverted TransactionDate to datetime:\\n\", df.head())"
   ]
  },
  {
   "cell_type": "code",
   "execution_count": 37,
   "id": "fe9baeb9-1276-461e-9ae2-c9487960d0e3",
   "metadata": {},
   "outputs": [
    {
     "name": "stdout",
     "output_type": "stream",
     "text": [
      "\n",
      "Inserted new column Foo (UID + PID):\n",
      "    UID  PID  Quant TransactionDate  TransactionID  Foo\n",
      "0  7.0    2     10      2010-08-21              1  9.0\n",
      "1  3.0    4      1      2011-05-26              2  7.0\n",
      "2  3.0    3      1      2011-06-16              3  6.0\n",
      "3  1.0    2      3      2012-08-26              4  3.0\n",
      "4  2.0    4      1      2013-06-06              5  6.0\n"
     ]
    }
   ],
   "source": [
    "# 37. Insert a new column Foo = UID + PID\n",
    "df['Foo'] = df['UID'] + df['PID']\n",
    "print(\"\\nInserted new column Foo (UID + PID):\\n\", df.head())"
   ]
  },
  {
   "cell_type": "code",
   "execution_count": null,
   "id": "e6a31a7f-e415-4cd2-b62c-404853cc8979",
   "metadata": {},
   "outputs": [],
   "source": []
  }
 ],
 "metadata": {
  "kernelspec": {
   "display_name": "Python 3 (ipykernel)",
   "language": "python",
   "name": "python3"
  },
  "language_info": {
   "codemirror_mode": {
    "name": "ipython",
    "version": 3
   },
   "file_extension": ".py",
   "mimetype": "text/x-python",
   "name": "python",
   "nbconvert_exporter": "python",
   "pygments_lexer": "ipython3",
   "version": "3.11.7"
  }
 },
 "nbformat": 4,
 "nbformat_minor": 5
}
